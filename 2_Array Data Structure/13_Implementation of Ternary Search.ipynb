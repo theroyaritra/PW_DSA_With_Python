{
 "cells": [
  {
   "cell_type": "code",
   "execution_count": 6,
   "id": "4a2a0d5e",
   "metadata": {},
   "outputs": [
    {
     "name": "stdout",
     "output_type": "stream",
     "text": [
      "Searching element is present at index: -1\n"
     ]
    }
   ],
   "source": [
    "## Implementation of ternary search\n",
    "## Recurrence Relation: T(n) = t(n/3) + c\n",
    "## function definition\n",
    "def ternarySearch(l, r, x, arr):\n",
    "    while l <= r:\n",
    "        mid1 = l + (r-l)//3\n",
    "        mid2 = r - (r-l)//3\n",
    "        \n",
    "        if x == arr[mid1]:\n",
    "            return mid1\n",
    "        elif x == arr[mid2]:\n",
    "            return mid2\n",
    "        ## first search space\n",
    "        elif x < arr[mid1]:\n",
    "            return ternarySearch(l, mid1-1, x, arr)\n",
    "        ## third search space\n",
    "        elif x > arr[mid2]:\n",
    "            return ternarySearch(mid2+1, r, x, arr)\n",
    "        ## second search space\n",
    "        else:\n",
    "            return ternarySearch(mid1+1, mid2-1, x, arr)\n",
    "    return -1\n",
    "\n",
    "## Driver code\n",
    "arr = [1, 2, 3, 4, 5, 6, 7, 8, 9, 10]\n",
    "l = 0\n",
    "r = len(arr) - 1\n",
    "x = 20\n",
    "## function calling\n",
    "result = ternarySearch(l, r, x, arr)\n",
    "print(\"Searching element is present at index:\", result)"
   ]
  },
  {
   "cell_type": "code",
   "execution_count": 5,
   "id": "da16a78f",
   "metadata": {},
   "outputs": [
    {
     "name": "stdout",
     "output_type": "stream",
     "text": [
      "Searching element is present at index: 8\n"
     ]
    }
   ],
   "source": [
    "# Self Written Code : Normal Ternary Search without using recursion:-\n",
    "## Driver code\n",
    "def generalTernarySearch(l,r,x,arr):\n",
    "    while l <= r:\n",
    "        mid1 = l + (r-l)//3\n",
    "        mid2 = r - (r-l)//3\n",
    "        \n",
    "        if x == arr[mid1]:\n",
    "            return mid1\n",
    "        elif x == arr[mid2]:\n",
    "            return mid2\n",
    "        ## first search space\n",
    "        elif x < arr[mid1]:\n",
    "            r = mid1-1\n",
    "        ## third search space\n",
    "        elif x > arr[mid2]:\n",
    "            l = mid2+1\n",
    "        ## second search space\n",
    "        else:\n",
    "            l = mid1+1\n",
    "            r = mid2-1\n",
    "    return -1\n",
    "\n",
    "arr = [1, 2, 3, 4, 5, 6, 7, 8, 9, 10]\n",
    "l = 0\n",
    "r = len(arr) - 1\n",
    "x = 9\n",
    "## function calling\n",
    "result = generalTernarySearch(l, r, x, arr)\n",
    "print(\"Searching element is present at index:\", result)"
   ]
  }
 ],
 "metadata": {
  "kernelspec": {
   "display_name": "Python 3 (ipykernel)",
   "language": "python",
   "name": "python3"
  },
  "language_info": {
   "codemirror_mode": {
    "name": "ipython",
    "version": 3
   },
   "file_extension": ".py",
   "mimetype": "text/x-python",
   "name": "python",
   "nbconvert_exporter": "python",
   "pygments_lexer": "ipython3",
   "version": "3.11.0"
  }
 },
 "nbformat": 4,
 "nbformat_minor": 5
}
